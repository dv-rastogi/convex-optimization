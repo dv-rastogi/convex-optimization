{
 "cells": [
  {
   "cell_type": "markdown",
   "metadata": {},
   "source": [
    "# COO Coding Assigment\n",
    "### Name: Divyansh Rastogi\n",
    "### Roll: 2019464\n",
    "### Question: 2"
   ]
  },
  {
   "cell_type": "code",
   "execution_count": 2,
   "metadata": {},
   "outputs": [],
   "source": [
    "import numpy as np\n",
    "import math\n",
    "np.set_printoptions(precision=12)"
   ]
  },
  {
   "cell_type": "markdown",
   "metadata": {},
   "source": [
    "## Analysing objective function\n",
    "- We observe that the function is convex from its graph\n",
    "- As line segment between any two points on the graph lies above the graph between the two points (Jensen's inequality)\n",
    "\n",
    "<img src='graph.JPG' width='1200'/>"
   ]
  },
  {
   "cell_type": "markdown",
   "metadata": {},
   "source": [
    "## Implementing function, gradient and hessian"
   ]
  },
  {
   "cell_type": "code",
   "execution_count": 3,
   "metadata": {},
   "outputs": [],
   "source": [
    "def f(x):\n",
    "    t1 = math.exp(x[0] + 3*x[1] - 0.1)\n",
    "    t2 = math.exp(x[0] - 3*x[1] - 0.1)\n",
    "    t3 = math.exp(-x[0] - 0.1)\n",
    "    return t1 + t2 + t3\n",
    "\n",
    "def gradf(x):\n",
    "    t1 = math.exp(x[0] + 3*x[1] - 0.1)\n",
    "    t2 = math.exp(x[0] - 3*x[1] - 0.1)\n",
    "    t3 = math.exp(-x[0] - 0.1)\n",
    "    return np.array([t1 + t2 - t3, 3*t1 - 3*t2])\n",
    "\n",
    "def hessf(x):\n",
    "    t1 = math.exp(x[0] + 3*x[1] - 0.1)\n",
    "    t2 = math.exp(x[0] - 3*x[1] - 0.1)\n",
    "    t3 = math.exp(-1*x[0] - 0.1)\n",
    "    return np.array([[t1 + t2 + t3, 3*t1 - 3*t2], [3*t1 - 3*t2, 9*t1 + 9*t2]])"
   ]
  },
  {
   "cell_type": "markdown",
   "metadata": {},
   "source": [
    "## Implementing Gradient Descent\n",
    "- Default values of precision & max iterations are taken to be 1e-12 & 1e5 respectively\n",
    "- Update rule is mentioned in function `GradDescentNewton.update()`\n",
    "- As the objective function is convex, hessian of the function is positive semi definite \n",
    "    - We dynamically calculate the hessian at each updation"
   ]
  },
  {
   "cell_type": "code",
   "execution_count": 4,
   "metadata": {},
   "outputs": [],
   "source": [
    "class GradDescentNewton:\n",
    "    def __init__(self, step_size):\n",
    "        self.step_size = step_size\n",
    "    \n",
    "    def error(self, prev, cur):\n",
    "        return abs(f(prev) - f(cur))\n",
    "\n",
    "    def change(self, prev, cur):\n",
    "        return math.sqrt((cur[0] - prev[0])**2 + (cur[1] - prev[1])**2)\n",
    "\n",
    "    # Update rule\n",
    "    def update(self, x):\n",
    "        g = gradf(x)\n",
    "        h = hessf(x)\n",
    "        hinv = np.linalg.pinv(h)\n",
    "        x = x - self.step_size * (hinv @ g)\n",
    "        return x\n",
    "        \n",
    "    def run(self, start=[0, 0], precision=1e-12, max_iters=1e5, ret=False):\n",
    "        X_iter = []\n",
    "        Y_error = []\n",
    "\n",
    "        cur = np.array(start.copy())\n",
    "        prev_step_size = math.inf\n",
    "        iters = 0\n",
    "    \n",
    "        while prev_step_size > precision and iters < max_iters:\n",
    "            \n",
    "            # Update current coord\n",
    "            prev = cur.copy()\n",
    "            cur = self.update(cur)\n",
    "\n",
    "            # error\n",
    "            Y_error.append(self.error(prev, cur))\n",
    "            X_iter.append(iters)\n",
    "\n",
    "            iters += 1\n",
    "            prev_step_size = self.change(prev, cur)\n",
    "\n",
    "        print(f\"Global minima at x={cur} for step_size={self.step_size} at iter={iters}\")\n",
    "        print(f\"Function value reached: {f(cur)}\")\n",
    "        print(f\"Precision: {precision}, Start: {start}, Max iter: {max_iters}\")\n",
    "        if ret:\n",
    "            return X_iter, Y_error"
   ]
  },
  {
   "cell_type": "markdown",
   "metadata": {},
   "source": [
    "## Part 1\n",
    "- step size is assumed to be 0.1"
   ]
  },
  {
   "cell_type": "code",
   "execution_count": 5,
   "metadata": {},
   "outputs": [
    {
     "name": "stdout",
     "output_type": "stream",
     "text": [
      "Global minima at x=[-3.465735902730e-01  4.638376280726e-12] for step_size=0.1 at iter=284\n",
      "Function value reached: 2.5592666966582156\n",
      "Precision: 1e-12, Start: [2, 1], Max iter: 100000.0\n"
     ]
    }
   ],
   "source": [
    "GradDescentNewton(step_size=0.1).run(start=[2, 1])"
   ]
  },
  {
   "cell_type": "markdown",
   "metadata": {},
   "source": [
    "## Part 2\n",
    "- step size is assumed to be 0.1"
   ]
  },
  {
   "cell_type": "code",
   "execution_count": 6,
   "metadata": {},
   "outputs": [
    {
     "name": "stdout",
     "output_type": "stream",
     "text": [
      "Global minima at x=[-3.465735902877e-01  2.834402166708e-12] for step_size=0.1 at iter=248\n",
      "Function value reached: 2.5592666966582156\n",
      "Precision: 1e-12, Start: [-2, 1], Max iter: 100000.0\n"
     ]
    }
   ],
   "source": [
    "GradDescentNewton(step_size=0.1).run(start=[-2, 1])"
   ]
  }
 ],
 "metadata": {
  "kernelspec": {
   "display_name": "Python 3",
   "language": "python",
   "name": "python3"
  },
  "language_info": {
   "codemirror_mode": {
    "name": "ipython",
    "version": 3
   },
   "file_extension": ".py",
   "mimetype": "text/x-python",
   "name": "python",
   "nbconvert_exporter": "python",
   "pygments_lexer": "ipython3",
   "version": "3.7.3"
  }
 },
 "nbformat": 4,
 "nbformat_minor": 2
}